{
 "cells": [
  {
   "cell_type": "markdown",
   "metadata": {},
   "source": [
    "---\n",
    "layout: post\n",
    "title: Torin's CSA Java work\n",
    "description:  Demo for CSA Java code\n",
    "type: issues \n",
    "comments: true\n",
    "---"
   ]
  },
  {
   "cell_type": "code",
   "execution_count": 8,
   "metadata": {
    "vscode": {
     "languageId": "java"
    }
   },
   "outputs": [
    {
     "name": "stdout",
     "output_type": "stream",
     "text": [
      "Enter a number: java.util.Scanner[delimiters=\\p{javaWhitespace}+][position=0][match valid=false][need input=false][source closed=false][skipped=false][group separator=\\x{2c}][decimal separator=\\x{2e}][positive prefix=][negative prefix=\\Q-\\E][positive suffix=][negative suffix=][NaN string=\\QNaN\\E][infinity string=\\Q∞\\E]\n"
     ]
    }
   ],
   "source": [
    "import java.util.*;\n",
    "public class main \n",
    "{\n",
    "    public static void main() {\n",
    "        Scanner number = new Scanner(System.in);\n",
    "        System.out.println(\"Enter a number: \" + number);\n",
    "    }\n",
    "}\n",
    "main.main();"
   ]
  },
  {
   "cell_type": "code",
   "execution_count": 5,
   "metadata": {
    "vscode": {
     "languageId": "java"
    }
   },
   "outputs": [
    {
     "name": "stdout",
     "output_type": "stream",
     "text": [
      "I am 16 years old and 6.3 feet tall.\n"
     ]
    }
   ],
   "source": [
    "import java.util.*;\n",
    "public class main \n",
    "{\n",
    "    public static void main() {\n",
    "        int age = 16;\n",
    "        double height = 6.3;\n",
    "\n",
    "        System.out.println(\"I am \" + age + \" years old and \" + height + \" feet tall.\");\n",
    "    }\n",
    "}\n",
    "main.main();"
   ]
  },
  {
   "cell_type": "code",
   "execution_count": 6,
   "metadata": {
    "vscode": {
     "languageId": "java"
    }
   },
   "outputs": [
    {
     "name": "stdout",
     "output_type": "stream",
     "text": [
      "int var: 2\n",
      "double var: 2.5\n",
      "false double var: 2.0\n",
      "remainder var: 1.0\n",
      "remainder + int: 3.0\n",
      "Combine actual variables (Not Addition): 21.0\n",
      "Powers var: 25.0\n",
      "Square Root: 5.0\n",
      "Inside while loop: 4.0\n",
      "Inside while loop: 16.0\n",
      "Inside while loop: 256.0\n",
      "Inside while loop: 65536.0\n",
      "Outside While loop: 65536.0\n",
      "Inside for loop: 2.0\n",
      "Inside for loop: 8.0\n",
      "Inside for loop: 512.0\n",
      "Inside for loop: 1.34217728E8\n",
      "Outside For loop: 2.4178516392292583E24\n"
     ]
    }
   ],
   "source": [
    "import java.util.*;\n",
    "\n",
    "public class Main {\n",
    "    public static void calculate() {\n",
    "        int intVar = 5;\n",
    "        int doubleVar = 2;\n",
    "        System.out.println(\"int var: \" + intVar / doubleVar);\n",
    "        System.out.println(\"double var: \" + (double) intVar / doubleVar);\n",
    "        System.out.println(\"false double var: \" + (double) (intVar / doubleVar));\n",
    "        double remainder = intVar % doubleVar;\n",
    "        System.out.println(\"remainder var: \" + remainder);\n",
    "        System.out.println(\"remainder + int: \" + ((intVar / doubleVar) + remainder));\n",
    "        System.out.println(\"Combine actual variables (Not Addition): \" + (intVar / doubleVar) + remainder);\n",
    "        \n",
    "        // system of equations\n",
    "        double x = 5;\n",
    "        double y = Math.pow(x, 2);\n",
    "        System.out.println(\"Powers var: \" + y);\n",
    "        double root = Math.sqrt(y);\n",
    "        System.out.println(\"Square Root: \" + root);\n",
    "        \n",
    "        // while loops\n",
    "        double v = 2.0;\n",
    "        while(v < 65536)\n",
    "        {\n",
    "            v = Math.pow(v, 2);\n",
    "            System.out.println(\"Inside while loop: \" + v);\n",
    "        }\n",
    "        System.out.println(\"Outside While loop: \" + v);\n",
    "\n",
    "        // for loops\n",
    "        int maxLoops = 4;\n",
    "        double pVar = 2;\n",
    "        double power = 3;\n",
    "        for(int i = 0; i < maxLoops; i++)\n",
    "        {\n",
    "            System.out.println(\"Inside for loop: \" + pVar);\n",
    "            pVar = Math.pow(pVar, power);\n",
    "        }\n",
    "        System.out.println(\"Outside For loop: \" + pVar);\n",
    "    }\n",
    "}\n",
    "Main.calculate();"
   ]
  }
 ],
 "metadata": {
  "kernelspec": {
   "display_name": "Java",
   "language": "java",
   "name": "java"
  },
  "language_info": {
   "codemirror_mode": "java",
   "file_extension": ".jshell",
   "mimetype": "text/x-java-source",
   "name": "Java",
   "pygments_lexer": "java",
   "version": "17.0.6+10-LTS"
  }
 },
 "nbformat": 4,
 "nbformat_minor": 2
}
